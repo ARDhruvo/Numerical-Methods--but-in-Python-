{
 "cells": [
  {
   "cell_type": "code",
   "execution_count": 1,
   "id": "33acb1f9-fe01-4671-bd74-4fa3c8506f5a",
   "metadata": {},
   "outputs": [],
   "source": [
    "import numpy as np"
   ]
  },
  {
   "cell_type": "code",
   "execution_count": 2,
   "id": "84a3b639-9a77-42cf-9882-ddb7f1f09888",
   "metadata": {},
   "outputs": [],
   "source": [
    "# Function Point"
   ]
  },
  {
   "cell_type": "code",
   "execution_count": 3,
   "id": "609488f9-3225-4d69-86a0-80d1f2df8c6d",
   "metadata": {},
   "outputs": [],
   "source": [
    "# Function Evaluation using Horner"
   ]
  },
  {
   "cell_type": "code",
   "execution_count": 4,
   "id": "ae5c7982-116e-4642-8a49-5e9d1eb972ab",
   "metadata": {},
   "outputs": [],
   "source": [
    "def f(x):\n",
    "    p = coeff[deg] # p(n) = a(n)\n",
    "    for i in range(deg, 0, -1):\n",
    "        p = coeff[i-1] + (p * x) # p(n - 1) = a{n - 1) + ( p(n) * x )\n",
    "    return p # f(x)  = p(0)"
   ]
  },
  {
   "cell_type": "code",
   "execution_count": 5,
   "id": "e2586e72-a949-4e79-a8e8-00fa7042f0e8",
   "metadata": {},
   "outputs": [],
   "source": [
    "# Execution Point"
   ]
  },
  {
   "cell_type": "code",
   "execution_count": 6,
   "id": "9ae2f843-5a91-41bd-a671-f00931aa110a",
   "metadata": {},
   "outputs": [],
   "source": [
    "# Input and Storing an Equation"
   ]
  },
  {
   "cell_type": "code",
   "execution_count": null,
   "id": "6d1ce36f-8a6e-4771-bed7-06d925294d81",
   "metadata": {},
   "outputs": [],
   "source": [
    "deg = int(input(\"Enter Degree of Equation: \"))\n",
    "n = deg + 1 # number of coefficients\n",
    "\n",
    "coeff = np.array(np.zeros(n, dtype = int))"
   ]
  },
  {
   "cell_type": "code",
   "execution_count": null,
   "id": "543f98f8-9abf-4e29-8e50-0f4873c136ea",
   "metadata": {},
   "outputs": [],
   "source": [
    "print(\"Equation will be: \")\n",
    "print(\"f(x) =\", end = \" \")\n",
    "for i in range(deg, 0, -1):\n",
    "    print(f\"a{i}*x^{i} +\", end = \" \")\n",
    "print(\"a0\")"
   ]
  },
  {
   "cell_type": "code",
   "execution_count": null,
   "id": "981e6f7e-2f7c-4b19-b511-1cef17622b82",
   "metadata": {},
   "outputs": [],
   "source": [
    "for i in range(deg, -1, -1):\n",
    "    coeff[i] = input(f\"Enter a{i}: \")\n",
    "\n",
    "print(\"Input Equation is:\")\n",
    "print(\"f(x) =\", end = \" \")\n",
    "for i in range(deg, 0, -1):\n",
    "    print(f\"{coeff[i]}*x^{i} +\", end = \" \")\n",
    "print(f\"{coeff[0]}\")"
   ]
  },
  {
   "cell_type": "code",
   "execution_count": null,
   "id": "dce96fa2-c6c4-4bd1-8efe-36cd2e321b15",
   "metadata": {},
   "outputs": [],
   "source": [
    "x = float(input(\"Enter x to evaluate: \"))\n",
    "\n",
    "print(f\"f({x}) = {f(x)}\")"
   ]
  }
 ],
 "metadata": {
  "kernelspec": {
   "display_name": "Python 3 (ipykernel)",
   "language": "python",
   "name": "python3"
  },
  "language_info": {
   "codemirror_mode": {
    "name": "ipython",
    "version": 3
   },
   "file_extension": ".py",
   "mimetype": "text/x-python",
   "name": "python",
   "nbconvert_exporter": "python",
   "pygments_lexer": "ipython3",
   "version": "3.11.4"
  }
 },
 "nbformat": 4,
 "nbformat_minor": 5
}
