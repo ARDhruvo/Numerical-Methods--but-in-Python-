{
 "cells": [
  {
   "cell_type": "code",
   "execution_count": 1,
   "id": "33acb1f9-fe01-4671-bd74-4fa3c8506f5a",
   "metadata": {},
   "outputs": [],
   "source": [
    "import numpy as np\n",
    "import pandas as pd"
   ]
  },
  {
   "cell_type": "code",
   "execution_count": 2,
   "id": "84a3b639-9a77-42cf-9882-ddb7f1f09888",
   "metadata": {},
   "outputs": [],
   "source": [
    "# Function Point"
   ]
  },
  {
   "cell_type": "code",
   "execution_count": 3,
   "id": "609488f9-3225-4d69-86a0-80d1f2df8c6d",
   "metadata": {},
   "outputs": [],
   "source": [
    "# Function Evaluation using Horner"
   ]
  },
  {
   "cell_type": "code",
   "execution_count": 4,
   "id": "ae5c7982-116e-4642-8a49-5e9d1eb972ab",
   "metadata": {},
   "outputs": [],
   "source": [
    "def f(x):\n",
    "    p = coeff[deg] # p(n) = a(n)\n",
    "    for i in range(deg, 0, -1):\n",
    "        p = coeff[i-1] + (p * x) # p(n - 1) = a{n - 1) + ( p(n) * x )\n",
    "    return p # f(x)  = p(0)"
   ]
  },
  {
   "cell_type": "code",
   "execution_count": 5,
   "id": "6c803f23-a388-4748-be36-33075b78b21d",
   "metadata": {},
   "outputs": [],
   "source": [
    "# Trapezoidal Integration"
   ]
  },
  {
   "cell_type": "code",
   "execution_count": 6,
   "id": "fd53a1d5-16dc-4682-92fc-8096cb6bc096",
   "metadata": {},
   "outputs": [],
   "source": [
    "def composite_trapezoidal(x, fx, h, step):\n",
    "    Ih = fx[0] + fx[fx.size - 1]\n",
    "    for i in range(0, 9, step):\n",
    "        if i == 0 or i == fx.size - 1:\n",
    "            continue\n",
    "        Ih += (2 * fx[i])\n",
    "    Ih *= (h/2)\n",
    "    # Ih = (h/2) * ((fx[0] + fx[6]) + 2 * (fx[1] + fx[2] + fx[3] + fx[4] + fx[5]))\n",
    "    return Ih"
   ]
  },
  {
   "cell_type": "code",
   "execution_count": 7,
   "id": "c44cc114-1936-40b8-9018-93cfad90b4b2",
   "metadata": {},
   "outputs": [],
   "source": [
    "# Romberg Merging"
   ]
  },
  {
   "cell_type": "code",
   "execution_count": 8,
   "id": "e84dc28e-bfb4-4342-b4b5-e59898536e9b",
   "metadata": {},
   "outputs": [],
   "source": [
    "def mergeI(Ix, Iy):\n",
    "    return ((1/3)*((4 * Iy) - Ix))\n",
    "    "
   ]
  },
  {
   "cell_type": "code",
   "execution_count": 9,
   "id": "22dc1045-bc0e-4611-a79a-3ce8d7435cbc",
   "metadata": {},
   "outputs": [],
   "source": [
    "# Pre Processing Integration"
   ]
  },
  {
   "cell_type": "code",
   "execution_count": 10,
   "id": "4f8ff251-98aa-4ee8-a7c5-279ae26bf85b",
   "metadata": {},
   "outputs": [],
   "source": [
    "def romberg(s, e):\n",
    "    h = (e-s)/2\n",
    "    h2 = h/2\n",
    "    h4 = h/4\n",
    "    step = {h:4, h2:2, h4:1}\n",
    "\n",
    "    x = np.array(np.zeros(9))\n",
    "    fx = np.array(np.zeros(9))\n",
    "\n",
    "    print(\"x\", end = \"\")\n",
    "    \n",
    "    table = {}\n",
    "\n",
    "    for i in range(9):\n",
    "        x[i] = s + (h4 * i)\n",
    "        fx[i] = f(x[i])\n",
    "        table[x[i]] = fx[i]\n",
    "\n",
    "    tb = pd.DataFrame(table, index = [\"f(x)\"])\n",
    "    print(tb)\n",
    "\n",
    "    Ih = composite_trapezoidal(x, fx, h, step[h])\n",
    "    Ih2 = composite_trapezoidal(x, fx, h2, step[h2])\n",
    "    Ih4 = composite_trapezoidal(x, fx, h4, step[h4])\n",
    "\n",
    "    Ihh2 = mergeI(Ih, Ih2)\n",
    "    Ih2h4 = mergeI(Ih2, Ih4)\n",
    "    I = mergeI(Ihh2, Ih2h4)\n",
    "\n",
    "    print(f\"Integration of {eqn} in limit [{sta}, {end}] (using Romberg) = {I}\")"
   ]
  },
  {
   "cell_type": "code",
   "execution_count": 11,
   "id": "e2586e72-a949-4e79-a8e8-00fa7042f0e8",
   "metadata": {},
   "outputs": [],
   "source": [
    "# Execution Point"
   ]
  },
  {
   "cell_type": "code",
   "execution_count": 12,
   "id": "9ae2f843-5a91-41bd-a671-f00931aa110a",
   "metadata": {},
   "outputs": [],
   "source": [
    "# Input and Storing an Equation"
   ]
  },
  {
   "cell_type": "code",
   "execution_count": 13,
   "id": "6d1ce36f-8a6e-4771-bed7-06d925294d81",
   "metadata": {},
   "outputs": [
    {
     "name": "stdin",
     "output_type": "stream",
     "text": [
      "Enter Degree of Equation:  2\n"
     ]
    }
   ],
   "source": [
    "deg = int(input(\"Enter Degree of Equation: \"))\n",
    "n = deg + 1 # number of coefficients\n",
    "eqn = \"f(x) = \"\n",
    "\n",
    "coeff = np.array(np.zeros(n, dtype = int))"
   ]
  },
  {
   "cell_type": "code",
   "execution_count": 14,
   "id": "543f98f8-9abf-4e29-8e50-0f4873c136ea",
   "metadata": {},
   "outputs": [
    {
     "name": "stdout",
     "output_type": "stream",
     "text": [
      "Equation will be: \n",
      "f(x) = a2*x^2 + a1*x^1 + a0\n"
     ]
    }
   ],
   "source": [
    "print(\"Equation will be: \")\n",
    "print(\"f(x) =\", end = \" \")\n",
    "for i in range(deg, 0, -1):\n",
    "    print(f\"a{i}*x^{i} +\", end = \" \")\n",
    "print(\"a0\")"
   ]
  },
  {
   "cell_type": "code",
   "execution_count": 15,
   "id": "981e6f7e-2f7c-4b19-b511-1cef17622b82",
   "metadata": {},
   "outputs": [
    {
     "name": "stdin",
     "output_type": "stream",
     "text": [
      "Enter a2:  1\n",
      "Enter a1:  2\n",
      "Enter a0:  1\n"
     ]
    },
    {
     "name": "stdout",
     "output_type": "stream",
     "text": [
      "Input Equation is:\n",
      "f(x) = f(x) = 1*x^2 + 2*x^1 + 1\n"
     ]
    }
   ],
   "source": [
    "for i in range(deg, -1, -1):\n",
    "    coeff[i] = input(f\"Enter a{i}: \")\n",
    "\n",
    "print(\"Input Equation is:\")\n",
    "print(\"f(x) =\", end = \" \")\n",
    "for i in range(deg, 0, -1):\n",
    "    # print(f\"{coeff[i]}*x^{i} +\", end = \" \")\n",
    "    eqn += f\"{coeff[i]}*x^{i} + \"\n",
    "# print(f\"{coeff[0]}\")\n",
    "eqn += f\"{coeff[0]}\"\n",
    "print(eqn)"
   ]
  },
  {
   "cell_type": "code",
   "execution_count": 16,
   "id": "4f6339e3-902e-4ccf-be97-03b232be57c9",
   "metadata": {},
   "outputs": [
    {
     "name": "stdin",
     "output_type": "stream",
     "text": [
      "Enter lower limit of integration:  0\n",
      "Enter upper limit of integration:  8\n"
     ]
    },
    {
     "name": "stdout",
     "output_type": "stream",
     "text": [
      "x      0.0  1.0  2.0   3.0   4.0   5.0   6.0   7.0   8.0\n",
      "f(x)  1.0  4.0  9.0  16.0  25.0  36.0  49.0  64.0  81.0\n",
      "Integration of f(x) = 1*x^2 + 2*x^1 + 1 in limit [0.0, 8.0] (using Romberg) = 242.66666666666666\n"
     ]
    }
   ],
   "source": [
    "sta = float(input(\"Enter lower limit of integration: \"))\n",
    "end = float(input(\"Enter upper limit of integration: \"))\n",
    "\n",
    "romberg(sta, end)"
   ]
  }
 ],
 "metadata": {
  "kernelspec": {
   "display_name": "Python 3 (ipykernel)",
   "language": "python",
   "name": "python3"
  },
  "language_info": {
   "codemirror_mode": {
    "name": "ipython",
    "version": 3
   },
   "file_extension": ".py",
   "mimetype": "text/x-python",
   "name": "python",
   "nbconvert_exporter": "python",
   "pygments_lexer": "ipython3",
   "version": "3.11.4"
  }
 },
 "nbformat": 4,
 "nbformat_minor": 5
}
